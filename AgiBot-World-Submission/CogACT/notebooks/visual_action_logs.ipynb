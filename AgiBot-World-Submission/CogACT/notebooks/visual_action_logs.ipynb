{
 "cells": [
  {
   "cell_type": "code",
   "execution_count": 3,
   "metadata": {},
   "outputs": [
    {
     "data": {
      "application/vnd.jupyter.widget-view+json": {
       "model_id": "6f8a3ebe184b4112b57624498018f54b",
       "version_major": 2,
       "version_minor": 0
      },
      "text/plain": [
       "interactive(children=(IntSlider(value=0, description='Frame', max=0), Output()), _dom_classes=('widget-interac…"
      ]
     },
     "metadata": {},
     "output_type": "display_data"
    }
   ],
   "source": [
    "import os\n",
    "import pickle\n",
    "import numpy as np\n",
    "from PIL import Image\n",
    "import matplotlib.pyplot as plt\n",
    "from ipywidgets import interact, IntSlider\n",
    "\n",
    "# -------- CONFIG --------\n",
    "LOG_DIR = \"../obs_logs\"\n",
    "N = 20  # Show first N by time\n",
    "\n",
    "# -------- FIND & SORT FILES --------\n",
    "def extract_timestamp(filename):\n",
    "    # Assumes format: observations_YYYYMMDD_HHMMSS.pkl\n",
    "    try:\n",
    "        return filename.split(\"_\")[1].replace(\".pkl\", \"\")\n",
    "    except IndexError:\n",
    "        return \"\"\n",
    "\n",
    "pkl_files = [\n",
    "    # os.path.join(LOG_DIR, f)\n",
    "    # for f in os.listdir(LOG_DIR)\n",
    "    # if f.startswith(\"observations_\") and f.endswith(\".pkl\")\n",
    "    # \"/home/xichen6/Documents/repos/genie_sim_v2.1/genie_sim/action_logs/observations_20250723_094830.pkl\",\n",
    "    # \"/home/xichen6/Documents/repos/genie_sim_v2.1/genie_sim/action_logs/observations_20250723_093542.pkl\",\n",
    "    \"/home/xichen6/Documents/repos/genie_sim_v2.3/genie_sim_v2.3-xc/AgiBot-World-Submission/CogACT/obs_logs/default_task/iter_1/observations_20250811_043141.pkl\",\n",
    "]\n",
    "\n",
    "# Sort by timestamp string\n",
    "pkl_files.sort(key=lambda x: extract_timestamp(os.path.basename(x)))\n",
    "\n",
    "# Take first N\n",
    "pkl_files = pkl_files[:N]\n",
    "\n",
    "# -------- IMAGE LOADING --------\n",
    "def get_rgb_image(file_path):\n",
    "    with open(file_path, \"rb\") as f:\n",
    "        data = pickle.load(f)\n",
    "    # cam_data = data['camera']['/G1/link_pitch_head/Head_Camera_01']\n",
    "    # img_np_flat = cam_data['rgb_camera']\n",
    "    # img_np = img_np_flat.reshape((480, 640, 4))[:, :, :3]\n",
    "    \n",
    "    img_np_left = data['images']['head_left']\n",
    "    img_np_head = data['images']['cam_top']\n",
    "    img_np_right = data['images']['head_right']\n",
    "    \n",
    "    # Combine images into a single RGB image\n",
    "    img_np = np.concatenate((img_np_left, img_np_head, img_np_right), axis=1)\n",
    "    \n",
    "    if img_np.shape[0] == 3:\n",
    "        img_np = np.transpose(img_np, (1, 2, 0))  # CHW to HWC\n",
    "    if img_np.dtype != np.uint8:\n",
    "        img_np = (img_np * 255).clip(0, 255).astype(np.uint8)\n",
    "    print(f\"shape: {img_np.shape}, dtype: {img_np.dtype}\")\n",
    "    return img_np\n",
    "\n",
    "# -------- VISUALIZATION --------\n",
    "def show_image(idx):\n",
    "    img_np = get_rgb_image(pkl_files[idx])\n",
    "    plt.figure(figsize=(8, 6))\n",
    "    plt.imshow(img_np)\n",
    "    plt.axis(\"off\")\n",
    "    plt.title(f\"{idx}: {os.path.basename(pkl_files[idx])}\")\n",
    "    plt.show()\n",
    "\n",
    "# -------- SLIDER UI --------\n",
    "if pkl_files:\n",
    "    interact(\n",
    "        show_image,\n",
    "        idx=IntSlider(min=0, max=len(pkl_files)-1, step=1, value=0, description='Frame')\n",
    "    )\n",
    "else:\n",
    "    print(\"No observation files found.\")\n"
   ]
  }
 ],
 "metadata": {
  "kernelspec": {
   "display_name": "agibot_data_env",
   "language": "python",
   "name": "python3"
  },
  "language_info": {
   "codemirror_mode": {
    "name": "ipython",
    "version": 3
   },
   "file_extension": ".py",
   "mimetype": "text/x-python",
   "name": "python",
   "nbconvert_exporter": "python",
   "pygments_lexer": "ipython3",
   "version": "3.10.18"
  }
 },
 "nbformat": 4,
 "nbformat_minor": 2
}
